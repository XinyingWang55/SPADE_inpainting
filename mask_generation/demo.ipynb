{
 "cells": [
  {
   "cell_type": "markdown",
   "metadata": {},
   "source": [
    "# Mask Generation Demo"
   ]
  },
  {
   "cell_type": "code",
   "execution_count": null,
   "metadata": {},
   "outputs": [
    {
     "ename": "",
     "evalue": "",
     "output_type": "error",
     "traceback": [
      "\u001b[1;31mRunning cells with 'Python 3.6.13 ('pytracking')' requires ipykernel package.\n",
      "Run the following command to install 'ipykernel' into the Python environment. \n",
      "Command: 'conda install -n pytracking ipykernel --update-deps --force-reinstall'"
     ]
    }
   ],
   "source": [
    "import numpy as np\n",
    "from utils import MaskGeneration, MergeMask\n",
    "from PIL import Image\n",
    "import random\n",
    "input_file = '/train/xinying/inpainting/ffhq/ffhq-512x512/00000.png'\n",
    "array = np.array(Image.open(input_file))"
   ]
  },
  {
   "cell_type": "markdown",
   "metadata": {},
   "source": [
    " <img src=\"../src/TribunaUffizi.jpg\" width=500/>"
   ]
  },
  {
   "cell_type": "code",
   "execution_count": 13,
   "metadata": {},
   "outputs": [],
   "source": [
    "# Load all masks\n",
    "mask_generation = MaskGeneration()"
   ]
  },
  {
   "cell_type": "markdown",
   "metadata": {},
   "source": [
    "## Traditional Strokes"
   ]
  },
  {
   "cell_type": "code",
   "execution_count": 14,
   "metadata": {},
   "outputs": [
    {
     "name": "stdout",
     "output_type": "stream",
     "text": [
      "Input: (1144, 1195, 3)\n",
      "Output GT       : (1144, 1195, 3)\n",
      "Output Mask     : (1144, 1195)\n",
      "Inpainting Ratio: 18.82%\n"
     ]
    }
   ],
   "source": [
    "mode = {\n",
    "    'name': 'ThickStrokes',\n",
    "    'size': 512,\n",
    "}\n",
    "np.random.seed(1)\n",
    "gt, mask = mask_generation(array, mode, verbose=True)\n",
    "# mask ->    255: inpaint   -    0: keep\n",
    "out = MergeMask(gt, 255 - mask)\n",
    "name = mode.get('name')\n",
    "filename = f'{image_dir}/{name}.png'\n",
    "Image.fromarray(out).save(filename)"
   ]
  },
  {
   "cell_type": "markdown",
   "metadata": {},
   "source": [
    "<img src=\"../src/ThickStrokes.png\" width=500/>"
   ]
  },
  {
   "cell_type": "code",
   "execution_count": 15,
   "metadata": {},
   "outputs": [
    {
     "name": "stdout",
     "output_type": "stream",
     "text": [
      "Input: (1144, 1195, 3)\n",
      "Output GT       : (1144, 1195, 3)\n",
      "Output Mask     : (1144, 1195)\n",
      "Inpainting Ratio: 11.52%\n"
     ]
    }
   ],
   "source": [
    "mode = {\n",
    "    'name': 'MediumStrokes',\n",
    "    'size': 512,\n",
    "}\n",
    "np.random.seed(1)\n",
    "gt, mask = mask_generation(array, mode, verbose=True)\n",
    "# mask ->    255: inpaint   -    0: keep\n",
    "out = MergeMask(gt, 255 - mask)\n",
    "name = mode.get('name')\n",
    "filename = f'{image_dir}/{name}.png'\n",
    "Image.fromarray(out).save(filename)"
   ]
  },
  {
   "cell_type": "markdown",
   "metadata": {},
   "source": [
    "<img src=\"../src/MediumStrokes.png\" width=500/>"
   ]
  },
  {
   "cell_type": "code",
   "execution_count": 16,
   "metadata": {},
   "outputs": [
    {
     "name": "stdout",
     "output_type": "stream",
     "text": [
      "Input: (1144, 1195, 3)\n",
      "Output GT       : (1144, 1195, 3)\n",
      "Output Mask     : (1144, 1195)\n",
      "Inpainting Ratio: 13.77%\n"
     ]
    }
   ],
   "source": [
    "mode = {\n",
    "    'name': 'ThinStrokes',\n",
    "    'size': 512,\n",
    "}\n",
    "np.random.seed(1)\n",
    "gt, mask = mask_generation(array, mode, verbose=True)\n",
    "# mask ->    255: inpaint   -    0: keep\n",
    "out = MergeMask(gt, 255 - mask)\n",
    "name = mode.get('name')\n",
    "filename = f'{image_dir}/{name}.png'\n",
    "Image.fromarray(out).save(filename)"
   ]
  },
  {
   "cell_type": "markdown",
   "metadata": {},
   "source": [
    "<img src=\"../src/ThinStrokes.png\" width=500/>"
   ]
  },
  {
   "cell_type": "markdown",
   "metadata": {},
   "source": [
    "## Image Completion Masks"
   ]
  },
  {
   "cell_type": "code",
   "execution_count": 17,
   "metadata": {},
   "outputs": [
    {
     "name": "stdout",
     "output_type": "stream",
     "text": [
      "Input: (1144, 1195, 3)\n",
      "Output GT       : (1144, 1195, 3)\n",
      "Output Mask     : (1144, 1195)\n",
      "Inpainting Ratio: 50.00%\n"
     ]
    }
   ],
   "source": [
    "mode = {\n",
    "    'name': 'Every_N_Lines',\n",
    "    'n': 2,\n",
    "    'direction': 'horizontal'\n",
    "}\n",
    "\n",
    "gt, mask = mask_generation(array, mode, verbose=True)\n",
    "# mask ->    255: inpaint   -    0: keep\n",
    "out = MergeMask(gt, 255 - mask)\n",
    "name = mode.get('name')\n",
    "filename = f'{image_dir}/{name}.png'\n",
    "Image.fromarray(out).save(filename)"
   ]
  },
  {
   "cell_type": "markdown",
   "metadata": {},
   "source": [
    "<img src=\"../src/Every_N_Lines.png\" width=500/>"
   ]
  },
  {
   "cell_type": "code",
   "execution_count": 18,
   "metadata": {},
   "outputs": [
    {
     "name": "stdout",
     "output_type": "stream",
     "text": [
      "Input: (1144, 1195, 3)\n",
      "Output GT       : (1144, 1195, 3)\n",
      "Output Mask     : (1144, 1195)\n",
      "Inpainting Ratio: 50.04%\n"
     ]
    }
   ],
   "source": [
    "mode = {\n",
    "    'name': 'Completion',\n",
    "    'ratio': 0.5,\n",
    "    'direction': 'horizontal',\n",
    "    'reverse': True,\n",
    "}\n",
    "\n",
    "gt, mask = mask_generation(array, mode, verbose=True)\n",
    "# mask ->    255: inpaint   -    0: keep\n",
    "out = MergeMask(gt, 255 - mask)\n",
    "name = mode.get('name')\n",
    "filename = f'{image_dir}/{name}.png'\n",
    "Image.fromarray(out).save(filename)"
   ]
  },
  {
   "cell_type": "markdown",
   "metadata": {},
   "source": [
    "<img src=\"../src/Completion.png\" width=500/>"
   ]
  },
  {
   "cell_type": "code",
   "execution_count": 19,
   "metadata": {},
   "outputs": [
    {
     "name": "stdout",
     "output_type": "stream",
     "text": [
      "Input: (1144, 1195, 3)\n",
      "Output GT       : (1144, 1195, 3)\n",
      "Output Mask     : (1144, 1195)\n",
      "Inpainting Ratio: 76.07%\n"
     ]
    }
   ],
   "source": [
    "mode = {\n",
    "    'name': 'Expand',\n",
    "    'size': None, # None means half of input size\n",
    "    'direction': 'interior' # interior is center crop inpainting, exterior is extrapolation\n",
    "}\n",
    "\n",
    "gt, mask = mask_generation(array, mode, verbose=True)\n",
    "# mask ->    255: inpaint   -    0: keep\n",
    "out = MergeMask(gt, 255 - mask)\n",
    "name = mode.get('name')\n",
    "filename = f'{image_dir}/{name}.png'\n",
    "Image.fromarray(out).save(filename)"
   ]
  },
  {
   "cell_type": "markdown",
   "metadata": {},
   "source": [
    "<img src=\"../src/Expand.png\" width=500/>"
   ]
  },
  {
   "cell_type": "markdown",
   "metadata": {},
   "source": [
    "## Super Resolution Inpainting"
   ]
  },
  {
   "cell_type": "code",
   "execution_count": 20,
   "metadata": {},
   "outputs": [
    {
     "name": "stdout",
     "output_type": "stream",
     "text": [
      "Input: (1144, 1195, 3)\n",
      "Output GT       : (4576, 4780, 3)\n",
      "Output Mask     : (4576, 4780)\n",
      "Inpainting Ratio: 93.75%\n"
     ]
    }
   ],
   "source": [
    "mode = {\n",
    "    'name': 'Nearest_Neighbor',\n",
    "    'scale': 4,\n",
    "}\n",
    "\n",
    "gt, mask = mask_generation(array, mode, verbose=True)\n",
    "# mask ->    255: inpaint   -    0: keep\n",
    "out = MergeMask(gt, 255 - mask)\n",
    "name = mode.get('name')\n",
    "filename = f'{image_dir}/{name}.png'\n",
    "Image.fromarray(out).save(filename)"
   ]
  },
  {
   "cell_type": "markdown",
   "metadata": {},
   "source": [
    "#### Check image size in previous cell!\n",
    "<img src=\"../src/Nearest_Neighbor.png\" width=500/>"
   ]
  }
 ],
 "metadata": {
  "interpreter": {
   "hash": "31f2aee4e71d21fbe5cf8b01ff0e069b9275f58929596ceb00d14d90e3e16cd6"
  },
  "kernelspec": {
   "display_name": "Python 3.7.3 64-bit",
   "language": "python",
   "name": "python3"
  },
  "language_info": {
   "codemirror_mode": {
    "name": "ipython",
    "version": 3
   },
   "file_extension": ".py",
   "mimetype": "text/x-python",
   "name": "python",
   "nbconvert_exporter": "python",
   "pygments_lexer": "ipython3",
   "version": "3.6.13"
  },
  "orig_nbformat": 4
 },
 "nbformat": 4,
 "nbformat_minor": 2
}
